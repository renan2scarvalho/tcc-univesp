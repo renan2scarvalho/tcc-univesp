{
 "cells": [
  {
   "cell_type": "markdown",
   "id": "d6fd0c2d",
   "metadata": {},
   "source": [
    "# TCC\n",
    "\n",
    "\n",
    "Ref Github: https://github.com/lszam/mineralexp"
   ]
  },
  {
   "cell_type": "code",
   "execution_count": null,
   "id": "44f05cf6",
   "metadata": {},
   "outputs": [],
   "source": [
    "import os\n",
    "import time\n",
    "from pathlib import Path\n",
    "import numpy as np\n",
    "import pandas as pd\n",
    "import matplotlib.pyplot as plt\n",
    "import geopandas as gpd\n",
    "import pyproj\n",
    "from warnings import filterwarnings\n",
    "\n",
    "# import rasterio\n",
    "# from rasterio.features import rasterize\n",
    "# from sklearn.ensemble import RandomForestClassifier\n",
    "# from sklearn.model_selection import train_test_split\n",
    "# from sklearn.metrics import roc_curve, auc\n",
    "# from sklearn.cluster import KMeans\n",
    "# from imblearn.under_sampling import RandomUnderSampler\n",
    "\n",
    "filterwarnings('ignore')"
   ]
  },
  {
   "cell_type": "code",
   "execution_count": 2,
   "id": "c8c88893",
   "metadata": {},
   "outputs": [],
   "source": [
    "dir_projeto = Path(os.getcwd()).parent.absolute()\n",
    "data_dir = Path(dir_projeto, \"Output\", \"tcc\")\n",
    "shp_dir = Path(data_dir, 'shp')"
   ]
  },
  {
   "cell_type": "markdown",
   "id": "cea14318",
   "metadata": {},
   "source": [
    "## funções"
   ]
  },
  {
   "cell_type": "code",
   "execution_count": 3,
   "id": "5a3aad33",
   "metadata": {},
   "outputs": [],
   "source": [
    "def utm_to_latlon(df: pd.DataFrame, x_col: str='X', y_col: str='Y', utm_zone: int=22, southern_hemisphere: bool=True):\n",
    "    \"\"\"\n",
    "    Convert UTM coordinates to latitude/longitude (WGS84)\n",
    "\n",
    "    Parameters:\n",
    "    - df: DataFrame containing coordinates\n",
    "    - x_col: Column name for easting (UTM X)\n",
    "    - y_col: Column name for northing (UTM Y)\n",
    "    - utm_zone: UTM zone number (Brazil is mostly zones 22-25)\n",
    "    - southern_hemisphere: True for southern hemisphere (Brazil)\n",
    "\n",
    "    Returns:\n",
    "    DataFrame with new 'longitude' and 'latitude' columns\n",
    "    \"\"\"\n",
    "    # Create UTM coordinate system\n",
    "    utm = pyproj.Proj(proj='utm', zone=utm_zone, south=southern_hemisphere)\n",
    "\n",
    "    # Create WGS84 coordinate system\n",
    "    wgs84 = pyproj.Proj(proj='latlong', datum='WGS84')\n",
    "\n",
    "    # Convert coordinates\n",
    "    lon, lat = pyproj.transform(utm, wgs84, df[x_col].values, df[y_col].values)\n",
    "\n",
    "    # Add to DataFrame\n",
    "    df = df.copy()\n",
    "    df['longitude'] = lon\n",
    "    df['latitude'] = lat\n",
    "\n",
    "    return df\n",
    "\n",
    "\n",
    "def convert_shapefile_to_latlon(shapefile_path):\n",
    "    gdf = gpd.read_file(shapefile_path)\n",
    "    if gdf.crs is None:\n",
    "        # Assuming it's in the same UTM as your other data\n",
    "        gdf.crs = f\"+proj=utm +zone=22 +south +datum=WGS84 +units=m +no_defs\"\n",
    "    gdf = gdf.to_crs(epsg=4326)  # Convert to WGS84 (lat/lon)\n",
    "    return gdf"
   ]
  },
  {
   "cell_type": "markdown",
   "id": "5ed50d07",
   "metadata": {},
   "source": [
    "## leitura e processamento"
   ]
  },
  {
   "cell_type": "markdown",
   "id": "6bb4c85b",
   "metadata": {},
   "source": [
    "- leitura dos dados de espectrometria\n",
    "\n",
    "  - dados:\n",
    "    - Fator F: valores altos para rochas alteradas por fluidos que carregam metais\n",
    "    - Kd: abundância de potássio\n",
    "    - Ud: abundância de urânio"
   ]
  },
  {
   "cell_type": "code",
   "execution_count": 4,
   "id": "9d653214",
   "metadata": {},
   "outputs": [
    {
     "name": "stderr",
     "output_type": "stream",
     "text": [
      "/tmp/ipykernel_31432/2720471530.py:22: FutureWarning: This function is deprecated. See: https://pyproj4.github.io/pyproj/stable/gotchas.html#upgrading-to-pyproj-2-from-pyproj-1\n",
      "  lon, lat = pyproj.transform(utm, wgs84, df[x_col].values, df[y_col].values)\n"
     ]
    },
    {
     "data": {
      "text/html": [
       "<div>\n",
       "<style scoped>\n",
       "    .dataframe tbody tr th:only-of-type {\n",
       "        vertical-align: middle;\n",
       "    }\n",
       "\n",
       "    .dataframe tbody tr th {\n",
       "        vertical-align: top;\n",
       "    }\n",
       "\n",
       "    .dataframe thead th {\n",
       "        text-align: right;\n",
       "    }\n",
       "</style>\n",
       "<table border=\"1\" class=\"dataframe\">\n",
       "  <thead>\n",
       "    <tr style=\"text-align: right;\">\n",
       "      <th></th>\n",
       "      <th>XUTM</th>\n",
       "      <th>YUTM</th>\n",
       "      <th>FatorF</th>\n",
       "      <th>Kd</th>\n",
       "      <th>Ud</th>\n",
       "      <th>longitude</th>\n",
       "      <th>latitude</th>\n",
       "    </tr>\n",
       "  </thead>\n",
       "  <tbody>\n",
       "    <tr>\n",
       "      <th>0</th>\n",
       "      <td>279545.71875</td>\n",
       "      <td>9101977.0</td>\n",
       "      <td>0.001366</td>\n",
       "      <td>-71.005653</td>\n",
       "      <td>-0.349341</td>\n",
       "      <td>-53.00070</td>\n",
       "      <td>-8.119232</td>\n",
       "    </tr>\n",
       "    <tr>\n",
       "      <th>1</th>\n",
       "      <td>279681.28125</td>\n",
       "      <td>9101978.0</td>\n",
       "      <td>0.003305</td>\n",
       "      <td>-28.235151</td>\n",
       "      <td>-0.366232</td>\n",
       "      <td>-52.99947</td>\n",
       "      <td>-8.119229</td>\n",
       "    </tr>\n",
       "    <tr>\n",
       "      <th>2</th>\n",
       "      <td>279816.87500</td>\n",
       "      <td>9101979.0</td>\n",
       "      <td>0.005131</td>\n",
       "      <td>-17.356588</td>\n",
       "      <td>-0.394505</td>\n",
       "      <td>-52.99824</td>\n",
       "      <td>-8.119227</td>\n",
       "    </tr>\n",
       "    <tr>\n",
       "      <th>3</th>\n",
       "      <td>279952.46875</td>\n",
       "      <td>9101979.0</td>\n",
       "      <td>0.007127</td>\n",
       "      <td>-11.845008</td>\n",
       "      <td>-0.430501</td>\n",
       "      <td>-52.99701</td>\n",
       "      <td>-8.119233</td>\n",
       "    </tr>\n",
       "    <tr>\n",
       "      <th>4</th>\n",
       "      <td>280088.06250</td>\n",
       "      <td>9101980.0</td>\n",
       "      <td>0.009410</td>\n",
       "      <td>-8.448283</td>\n",
       "      <td>-0.474455</td>\n",
       "      <td>-52.99578</td>\n",
       "      <td>-8.119230</td>\n",
       "    </tr>\n",
       "  </tbody>\n",
       "</table>\n",
       "</div>"
      ],
      "text/plain": [
       "           XUTM       YUTM    FatorF         Kd        Ud  longitude  latitude\n",
       "0  279545.71875  9101977.0  0.001366 -71.005653 -0.349341  -53.00070 -8.119232\n",
       "1  279681.28125  9101978.0  0.003305 -28.235151 -0.366232  -52.99947 -8.119229\n",
       "2  279816.87500  9101979.0  0.005131 -17.356588 -0.394505  -52.99824 -8.119227\n",
       "3  279952.46875  9101979.0  0.007127 -11.845008 -0.430501  -52.99701 -8.119233\n",
       "4  280088.06250  9101980.0  0.009410  -8.448283 -0.474455  -52.99578 -8.119230"
      ]
     },
     "execution_count": 4,
     "metadata": {},
     "output_type": "execute_result"
    }
   ],
   "source": [
    "spec_data = pd.read_csv(\n",
    "    Path(data_dir, \"dados_gamaespectrometria_filtrados.csv\"),\n",
    "    dtype={\n",
    "        \"XUTM\": np.float32,\n",
    "        \"YUTM\": np.float32,\n",
    "        \"FatorF\": np.float32,\n",
    "        \"Kd\": np.float32,\n",
    "        \"Ud\": np.float32,\n",
    "    },\n",
    ")\n",
    "# spec_data.rename(columns={\"XUTM\": \"X\", \"YUTM\": \"Y\"}, inplace=True)\n",
    "spec_data = utm_to_latlon(spec_data, x_col='XUTM', y_col='YUTM')\n",
    "spec_data.head()"
   ]
  },
  {
   "cell_type": "markdown",
   "id": "c076fd34",
   "metadata": {},
   "source": [
    "- leitura dos dados de gravimetria\n",
    "\n",
    "  - dados:\n",
    "    - grav_residual190km_qht: Gravity residual at 190km (possibly Bouguer anomaly)\n",
    "    - grav_residual100km: Gravity residual at 100km\n",
    "    - maq_asvi: Likely some gravity-related index or processed value\n",
    "    - maq_qt: Another gravity-related metric, possibly quality or quantity measure"
   ]
  },
  {
   "cell_type": "code",
   "execution_count": 5,
   "id": "1fc9b874",
   "metadata": {},
   "outputs": [
    {
     "name": "stderr",
     "output_type": "stream",
     "text": [
      "/tmp/ipykernel_31432/2720471530.py:22: FutureWarning: This function is deprecated. See: https://pyproj4.github.io/pyproj/stable/gotchas.html#upgrading-to-pyproj-2-from-pyproj-1\n",
      "  lon, lat = pyproj.transform(utm, wgs84, df[x_col].values, df[y_col].values)\n"
     ]
    },
    {
     "data": {
      "text/html": [
       "<div>\n",
       "<style scoped>\n",
       "    .dataframe tbody tr th:only-of-type {\n",
       "        vertical-align: middle;\n",
       "    }\n",
       "\n",
       "    .dataframe tbody tr th {\n",
       "        vertical-align: top;\n",
       "    }\n",
       "\n",
       "    .dataframe thead th {\n",
       "        text-align: right;\n",
       "    }\n",
       "</style>\n",
       "<table border=\"1\" class=\"dataframe\">\n",
       "  <thead>\n",
       "    <tr style=\"text-align: right;\">\n",
       "      <th></th>\n",
       "      <th>X</th>\n",
       "      <th>Y</th>\n",
       "      <th>grav_residual190km_ght</th>\n",
       "      <th>grav_residual100km</th>\n",
       "      <th>mag_asvi</th>\n",
       "      <th>mag_gt</th>\n",
       "      <th>longitude</th>\n",
       "      <th>latitude</th>\n",
       "    </tr>\n",
       "  </thead>\n",
       "  <tbody>\n",
       "    <tr>\n",
       "      <th>0</th>\n",
       "      <td>453679.25</td>\n",
       "      <td>9102751.0</td>\n",
       "      <td>0.000501</td>\n",
       "      <td>-1.943505</td>\n",
       "      <td>67.472176</td>\n",
       "      <td>0.008145</td>\n",
       "      <td>-51.420454</td>\n",
       "      <td>-8.116933</td>\n",
       "    </tr>\n",
       "    <tr>\n",
       "      <th>1</th>\n",
       "      <td>454429.25</td>\n",
       "      <td>9102751.0</td>\n",
       "      <td>0.000573</td>\n",
       "      <td>-1.592606</td>\n",
       "      <td>64.604439</td>\n",
       "      <td>0.008208</td>\n",
       "      <td>-51.413646</td>\n",
       "      <td>-8.116940</td>\n",
       "    </tr>\n",
       "    <tr>\n",
       "      <th>2</th>\n",
       "      <td>455179.25</td>\n",
       "      <td>9102751.0</td>\n",
       "      <td>0.000563</td>\n",
       "      <td>-1.343595</td>\n",
       "      <td>62.171368</td>\n",
       "      <td>0.008150</td>\n",
       "      <td>-51.406838</td>\n",
       "      <td>-8.116947</td>\n",
       "    </tr>\n",
       "    <tr>\n",
       "      <th>3</th>\n",
       "      <td>455929.25</td>\n",
       "      <td>9102751.0</td>\n",
       "      <td>0.000560</td>\n",
       "      <td>-1.101486</td>\n",
       "      <td>60.097729</td>\n",
       "      <td>0.008015</td>\n",
       "      <td>-51.400031</td>\n",
       "      <td>-8.116953</td>\n",
       "    </tr>\n",
       "    <tr>\n",
       "      <th>4</th>\n",
       "      <td>456679.25</td>\n",
       "      <td>9102751.0</td>\n",
       "      <td>0.000559</td>\n",
       "      <td>-0.847108</td>\n",
       "      <td>58.177116</td>\n",
       "      <td>0.007754</td>\n",
       "      <td>-51.393223</td>\n",
       "      <td>-8.116960</td>\n",
       "    </tr>\n",
       "  </tbody>\n",
       "</table>\n",
       "</div>"
      ],
      "text/plain": [
       "           X          Y  grav_residual190km_ght  grav_residual100km  \\\n",
       "0  453679.25  9102751.0                0.000501           -1.943505   \n",
       "1  454429.25  9102751.0                0.000573           -1.592606   \n",
       "2  455179.25  9102751.0                0.000563           -1.343595   \n",
       "3  455929.25  9102751.0                0.000560           -1.101486   \n",
       "4  456679.25  9102751.0                0.000559           -0.847108   \n",
       "\n",
       "    mag_asvi    mag_gt  longitude  latitude  \n",
       "0  67.472176  0.008145 -51.420454 -8.116933  \n",
       "1  64.604439  0.008208 -51.413646 -8.116940  \n",
       "2  62.171368  0.008150 -51.406838 -8.116947  \n",
       "3  60.097729  0.008015 -51.400031 -8.116953  \n",
       "4  58.177116  0.007754 -51.393223 -8.116960  "
      ]
     },
     "execution_count": 5,
     "metadata": {},
     "output_type": "execute_result"
    }
   ],
   "source": [
    "grav_data = pd.read_csv(\n",
    "    Path(data_dir, \"dados_gravmag_filtrados_v2.csv\"),\n",
    "    dtype={\n",
    "        \"X\": np.float32,\n",
    "        \"Y\": np.float32,\n",
    "        \"grav_residual190km_ght\": np.float32,\n",
    "        \"grav_residual100km\": np.float32,\n",
    "        \"mag_asvi\": np.float32,\n",
    "        \"mag_gt\": np.float32,\n",
    "    },\n",
    ")\n",
    "grav_data = utm_to_latlon(grav_data, x_col='X', y_col='Y')\n",
    "grav_data.head()"
   ]
  },
  {
   "cell_type": "markdown",
   "id": "2039f953",
   "metadata": {},
   "source": [
    "- leitura dos shapefiles com ocorrências de metais/minas"
   ]
  },
  {
   "cell_type": "code",
   "execution_count": 6,
   "id": "2e5af128",
   "metadata": {},
   "outputs": [],
   "source": [
    "# ouro = gpd.read_file(Path(shp_dir, 'ocorrencias_Au.shp'))\n",
    "# # cobre = gpd.read_file(Path(shp_dir, 'ocorrencias_Cu.shp'))\n",
    "# ferro = gpd.read_file(Path(shp_dir, 'ocorrencias_Fe.shp'))\n",
    "# # manganes = gpd.read_file(Path(shp_dir, 'ocorrencias_Mn.shp'))\n",
    "# # niquel = gpd.read_file(Path(shp_dir, 'ocorrencias_Ni.shp'))\n",
    "# # chumbo = gpd.read_file(Path(shp_dir, 'ocorrencias_Pb.shp'))\n",
    "# # estanho = gpd.read_file(Path(shp_dir, 'ocorrencias_Sn.shp'))\n",
    "\n",
    "# minas = gpd.read_file(Path(shp_dir, 'minas.shp'))\n",
    "\n",
    "# ! leitura dos arquivos com conversão para latitude/longitude\n",
    "ouro = convert_shapefile_to_latlon(Path(shp_dir, 'ocorrencias_Au.shp'))\n",
    "# cobre = convert_shapefile_to_latlon(Path(shp_dir, 'ocorrencias_Cu.shp'))\n",
    "ferro = convert_shapefile_to_latlon(Path(shp_dir, 'ocorrencias_Fe.shp'))\n",
    "# manganes = convert_shapefile_to_latlon(Path(shp_dir, 'ocorrencias_Mn.shp'))\n",
    "# niquel = convert_shapefile_to_latlon(Path(shp_dir, 'ocorrencias_Ni.shp'))\n",
    "# chumbo = convert_shapefile_to_latlon(Path(shp_dir, 'ocorrencias_Pb.shp'))\n",
    "# estanho = convert_shapefile_to_latlon(Path(shp_dir, 'ocorrencias_Sn.shp'))\n",
    "\n",
    "minas = convert_shapefile_to_latlon(Path(shp_dir, 'minas.shp'))"
   ]
  },
  {
   "cell_type": "code",
   "execution_count": 8,
   "id": "0378b3cd",
   "metadata": {},
   "outputs": [
    {
     "data": {
      "image/png": "[encoded data removed]",
      "text/plain": [
       "<Figure size 1600x1000 with 3 Axes>"
      ]
     },
     "metadata": {},
     "output_type": "display_data"
    }
   ],
   "source": [
    "# https://matplotlib.org/stable/api/markers_api.html\n",
    "\n",
    "lst_data = [ouro, ferro, minas]\n",
    "lst_cores = ['yellow', 'gray', 'red']\n",
    "lst_marker = ['*', 'v', 'o']\n",
    "lst_nomes = ['Ouro', 'Ferro', 'Minas']\n",
    "\n",
    "fig, axs = plt.subplots(1, 3, figsize=(16, 10))\n",
    "for i, ax in enumerate(axs.flatten()):\n",
    "    lst_data[i].plot(ax=ax, color=lst_cores[i], marker=lst_marker[i], markersize=50)\n",
    "    ax.set_title(lst_nomes[i])"
   ]
  },
  {
   "cell_type": "code",
   "execution_count": null,
   "id": "acae54e37e7d407bbb7b55eff062a284",
   "metadata": {},
   "outputs": [],
   "source": [
    "\n",
    "\n",
    "\n"
   ]
  },
  {
   "cell_type": "code",
   "execution_count": null,
   "id": "d95cbf0f",
   "metadata": {},
   "outputs": [],
   "source": []
  },
  {
   "cell_type": "code",
   "execution_count": null,
   "id": "e771ecf0",
   "metadata": {},
   "outputs": [],
   "source": []
  },
  {
   "cell_type": "code",
   "execution_count": null,
   "id": "139ec3b8",
   "metadata": {},
   "outputs": [],
   "source": []
  }
 ],
 "metadata": {
  "kernelspec": {
   "display_name": ".venv",
   "language": "python",
   "name": "python3"
  },
  "language_info": {
   "codemirror_mode": {
    "name": "ipython",
    "version": 3
   },
   "file_extension": ".py",
   "mimetype": "text/x-python",
   "name": "python",
   "nbconvert_exporter": "python",
   "pygments_lexer": "ipython3",
   "version": "3.12.9"
  }
 },
 "nbformat": 4,
 "nbformat_minor": 5
}
